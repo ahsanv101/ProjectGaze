{
 "cells": [
  {
   "cell_type": "code",
   "execution_count": 37,
   "id": "5c245cbc-1ce5-4436-812d-e57fc5799bdd",
   "metadata": {
    "tags": []
   },
   "outputs": [
    {
     "name": "stdout",
     "output_type": "stream",
     "text": [
      "/Users/macuser/Desktop/infovizrepo/ProjectGaze\n"
     ]
    },
    {
     "data": {
      "text/plain": [
       "['imdbid',\n",
       " 'Title',\n",
       " 'Decade',\n",
       " 'Genre',\n",
       " 'Director',\n",
       " 'year',\n",
       " 'bechdel_rating',\n",
       " 'male_percen',\n",
       " 'nonmale_percentage',\n",
       " 'dialogue_score',\n",
       " 'bechdel_score',\n",
       " 'count',\n",
       " 'inappropriate_count',\n",
       " 'descriptions_score',\n",
       " '_merge',\n",
       " 'gaze_score']"
      ]
     },
     "execution_count": 37,
     "metadata": {},
     "output_type": "execute_result"
    }
   ],
   "source": [
    "#merge final results to get the score\n",
    "\n",
    "import os\n",
    "import pandas as pd\n",
    "\n",
    "cwd = os.getcwd()\n",
    "path =\"/\".join(list(cwd.split('/')[0:-1])) \n",
    "\n",
    "print(path)\n",
    "df_bechdel_dialogue = pd.read_csv(path+ '/Data/Dialogue/dialogue_bechdel.csv')\n",
    "df_descriptions= pd.read_csv(path+ \"/Data/Descriptions/fem_descriptions_df.csv\")\n",
    "\n",
    "final_scores = pd.merge(df_bechdel_dialogue,df_descriptions, left_on='Title',right_on=\"movie\",how='outer',indicator='_merge')\n",
    "\n",
    "final_scores.columns.tolist()\n",
    "final_scores = final_scores[['imdbid','Title','Decade','Genre','Director','year','bechdel_rating','male_percen',\n",
    "                            'nonmale_percentage','dialogue_score','bechdel_score','count','inappropriate_count','score','_merge']]\n",
    "final_scores.rename(columns={'score':'descriptions_score'},inplace=True)\n",
    "                    \n",
    "final_scores.drop_duplicates(inplace=True)\n",
    "                    \n",
    "final_scores\n",
    "\n",
    "scores_to_count = final_scores[['dialogue_score','bechdel_score','descriptions_score']]\n",
    "\n",
    "final_scores['gaze_score'] = scores_to_count.sum(axis=1)\n",
    "\n",
    "final_scores['gaze_score'].unique()\n",
    "final_scores.columns.tolist()"
   ]
  },
  {
   "cell_type": "code",
   "execution_count": null,
   "id": "dd93b7d4-c65e-4b3c-bc4d-2d2f029c8ac5",
   "metadata": {},
   "outputs": [],
   "source": []
  },
  {
   "cell_type": "code",
   "execution_count": 36,
   "id": "5c2632e7-6c84-46a2-a0d3-c84fbd091013",
   "metadata": {
    "tags": []
   },
   "outputs": [],
   "source": [
    "#save\n",
    "os.mkdir(path+'/Data/final_scores')\n",
    "\n",
    "final_scores.to_csv(path+'/Data/final_scores/final_scores_df.csv')\n"
   ]
  },
  {
   "cell_type": "code",
   "execution_count": null,
   "id": "f1e9268a-bbff-4356-b0e4-ee1ccce5fb4f",
   "metadata": {},
   "outputs": [],
   "source": []
  }
 ],
 "metadata": {
  "kernelspec": {
   "display_name": "Python 3 (ipykernel)",
   "language": "python",
   "name": "python3"
  },
  "language_info": {
   "codemirror_mode": {
    "name": "ipython",
    "version": 3
   },
   "file_extension": ".py",
   "mimetype": "text/x-python",
   "name": "python",
   "nbconvert_exporter": "python",
   "pygments_lexer": "ipython3",
   "version": "3.11.2"
  }
 },
 "nbformat": 4,
 "nbformat_minor": 5
}
