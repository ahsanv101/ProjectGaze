{
 "cells": [
  {
   "cell_type": "code",
   "execution_count": 29,
   "id": "5c245cbc-1ce5-4436-812d-e57fc5799bdd",
   "metadata": {
    "tags": []
   },
   "outputs": [
    {
     "name": "stdout",
     "output_type": "stream",
     "text": [
      "/Users/macuser/Desktop/infovizrepo/ProjectGaze\n"
     ]
    },
    {
     "data": {
      "text/plain": [
       "array([38.33      ,  0.        , 25.        ,  9.2375    , 49.42668289,\n",
       "       13.33      , 27.66411789, 26.66      , 11.1210484 , 47.92540542,\n",
       "       51.66      ,  4.425     ,  3.20821301, 65.        , 29.40866641,\n",
       "       36.27209693, 15.0375    , 38.79683641, 47.1101134 , 57.28176501,\n",
       "       56.1086134 , 57.2895009 , 41.53821301, 54.86821301, 32.53658339,\n",
       "       51.6625    , 27.82886139, 60.17952802, 32.33999256, 42.49103295,\n",
       "       61.5607919 , 61.17350539, 35.48514892, 54.15937439, 30.6295009 ,\n",
       "       71.71286588, 27.99360489, 32.35502241, 31.28847491, 16.05      ,\n",
       "       33.31154942, 34.01927489, 58.3560484 ])"
      ]
     },
     "execution_count": 29,
     "metadata": {},
     "output_type": "execute_result"
    }
   ],
   "source": [
    "#merge final results to get the score\n",
    "\n",
    "import os\n",
    "import pandas as pd\n",
    "\n",
    "cwd = os.getcwd()\n",
    "path =\"/\".join(list(cwd.split('/')[0:-1])) \n",
    "\n",
    "print(path)\n",
    "df_bechdel_dialogue = pd.read_csv(path+ '/Data/Dialogue/dialogue_bechdel.csv')\n",
    "df_descriptions= pd.read_csv(path+ \"/Data/Descriptions/fem_descriptions_df.csv\")\n",
    "\n",
    "final_scores = pd.merge(df_bechdel_dialogue,df_descriptions, left_on='Title',right_on=\"movie\",how='outer',indicator='_merge')\n",
    "\n",
    "final_scores.columns.tolist()\n",
    "final_scores = final_scores[['imdbid','Title','Decade','Genre','Director','year','bechdel_rating','male_percen',\n",
    "                            'nonmale_percentage','dialogue_score','bechdel_score','count','inappropriate_count','score','_merge']]\n",
    "final_scores.rename(columns={'score':'descriptions_score'},inplace=True)\n",
    "                    \n",
    "final_scores.drop_duplicates(inplace=True)\n",
    "                    \n",
    "final_scores\n",
    "\n",
    "scores_to_count = final_scores[['dialogue_score','bechdel_score','descriptions_score']]\n",
    "\n",
    "final_scores['final_score'] = scores_to_count.sum(axis=1)\n",
    "\n",
    "final_scores['final_score'].unique()\n"
   ]
  },
  {
   "cell_type": "code",
   "execution_count": null,
   "id": "dd93b7d4-c65e-4b3c-bc4d-2d2f029c8ac5",
   "metadata": {},
   "outputs": [],
   "source": [
    "final_scores = final_scores[['imdbid','Title','Decade','Genre','Director','year','bechdel_rating','male_percen',\n",
    "                            'nonmale_percentage','dialogue_score','bechdel_score','count','inappropriate_count','score'"
   ]
  },
  {
   "cell_type": "code",
   "execution_count": null,
   "id": "5c2632e7-6c84-46a2-a0d3-c84fbd091013",
   "metadata": {},
   "outputs": [],
   "source": [
    "#save\n",
    "os.mkdir(path+'/Data/final_scores')\n",
    "\n",
    "final_scores.to_csv(path+'/Data/final_scores/final_scores_df.csv')\n",
    "final_scores"
   ]
  }
 ],
 "metadata": {
  "kernelspec": {
   "display_name": "Python 3 (ipykernel)",
   "language": "python",
   "name": "python3"
  },
  "language_info": {
   "codemirror_mode": {
    "name": "ipython",
    "version": 3
   },
   "file_extension": ".py",
   "mimetype": "text/x-python",
   "name": "python",
   "nbconvert_exporter": "python",
   "pygments_lexer": "ipython3",
   "version": "3.11.2"
  }
 },
 "nbformat": 4,
 "nbformat_minor": 5
}
