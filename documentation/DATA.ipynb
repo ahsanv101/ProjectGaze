{
 "cells": [
  {
   "attachments": {},
   "cell_type": "markdown",
   "metadata": {},
   "source": [
    "# ProjectName - Data documentation\n",
    "\n",
    "This Jupyter Notebook analyses the data preparation and processing phase for [\"NameProject\"](https://github.com/ahsanv101/ProjectGaze), a data visualization project regarding the perception of the \"male gaze\" in USA's highest grossing movies between 1940s and 2010s.\n",
    "\n",
    "### Disclaimer ?? idk if it's needed\n",
    "This Jupyter Notebook is of informational nature only, it is not thought to be used for the data preparation and processing, but only for the analysis and explanation of such processes.\n",
    "<br>The Python files used for the clean up can be found in `scripts > [namefile].py`."
   ]
  },
  {
   "attachments": {},
   "cell_type": "markdown",
   "metadata": {},
   "source": [
    "## Webscraping - SA on reviews"
   ]
  },
  {
   "attachments": {},
   "cell_type": "markdown",
   "metadata": {},
   "source": [
    "## Film Scripts analysis"
   ]
  },
  {
   "attachments": {},
   "cell_type": "markdown",
   "metadata": {},
   "source": [
    "## SPARQL Data retrieval\n",
    "\n",
    "Finally, after gathering some preliminary results from the first analyses on film scripts and IMDB's reviews, we further deepened our research using the [**Linked Internet Movie Database (IMDb)**](https://triplydb.com/Triply/linkedmdb) and its **SPARQL endpoint**, hosted on Triply.\n",
    "\n",
    "Not having knowledge about the structure of such knowledge base, an initial phase of **data exploration** was deemed necessary.\n",
    "\n",
    "Afterwards it was finally possible to perform the queries and save the results in an appropriate format as to visualize the data and gather insight on it.\n",
    "\n",
    "### Data exploration\n",
    "In general, there are two different types of statements (triples) in knowledge bases: **T-Box** statements and **A-Box** statements.\n",
    "1. **T-Box** (Terminological Box) statements describe the domain of interest defining classes and properties as the domain vocabulary; they contain information related to the **structure of the dataset**\n",
    "2. **A-Box** (Assertional Box) statements provide facts associated with the TBox's conceptual model or ontologies; they contain information on instances and the relationships between them: the **main content of the dataset**\n",
    "\n",
    "For the exploration of the IMDB dataset, we will follow this theoretical structure.\n",
    "\n",
    "#### T-Box (Terminological Box)\n",
    "A first interesting query would be to check the **number of triples** contained in the knowledge base, to get a flavor of the extent of it.\n"
   ]
  },
  {
   "cell_type": "code",
   "execution_count": null,
   "metadata": {},
   "outputs": [],
   "source": [
    "# Import library to display the results cleanly\n",
    "import sparql_dataframe\n",
    "import pandas\n",
    "\n",
    "# Reference resource: IMDB SPARQL endpoint URL\n",
    "endpoint = 'https://api.triplydb.com/datasets/Triply/linkedmdb/services/linkedmdb/sparql'\n",
    "\n",
    "# Query we want to run: how many triples are in the LOD source?\n",
    "query_triples_count = \"\"\"\n",
    "SELECT (COUNT (*) AS ?tripleCount)\n",
    "WHERE {\n",
    "?s ?p ?o\n",
    "}\n",
    "\"\"\"\n",
    "\n",
    "# Create dataframe and print it\n",
    "df = sparql_dataframe.get(endpoint, query_triples_count)\n",
    "print(f'The total number of triples is:\\n {df}')"
   ]
  },
  {
   "attachments": {},
   "cell_type": "markdown",
   "metadata": {},
   "source": [
    "Then, to quickly comprehend the kind of data available, we **listed the predicates used** (maybe listing them alphabetically), which immediately can tell us interesting facts on the kind of data available."
   ]
  },
  {
   "cell_type": "code",
   "execution_count": null,
   "metadata": {},
   "outputs": [],
   "source": [
    "# List predicates \n",
    "query_predicates = \"\"\"\n",
    "    SELECT DISTINCT ?p\n",
    "    WHERE { \n",
    "    ?s ?p ?o .\n",
    "    } ORDER BY ?p\n",
    "\"\"\"\n",
    "\n",
    "df = sparql_dataframe.get(endpoint, query_predicates)\n",
    "print(f'The list of predicates:\\n {df}')"
   ]
  },
  {
   "attachments": {},
   "cell_type": "markdown",
   "metadata": {},
   "source": [
    "The presence of `rdfs:subClassOf` indicates the presence of some structure, while `dcterms:title` shows that the knowledge graph deals with works (clearly, this being a knowledge base on the Internet Movie Database contents), finally `foaf` indicates the presence of information about people. But these are only some of the many ontologies used in this knowledge graph.\n",
    "\n",
    "Having ordered the resulting dataframe in alphabetical order allows us to immediately and easily see the **many different ontologies** employed:"
   ]
  },
  {
   "cell_type": "code",
   "execution_count": null,
   "metadata": {},
   "outputs": [],
   "source": [
    "# Print each row of the dataframe\n",
    "for idx, row in df.iterrows():\n",
    "    print(row['p'])"
   ]
  },
  {
   "attachments": {},
   "cell_type": "markdown",
   "metadata": {},
   "source": [
    "We have:\n",
    "- [DBpedia](https://www.dbpedia.org/)\n",
    "- [Dcterms](https://www.dublincore.org/specifications/dublin-core/dcmi-terms/)\n",
    "- [OWL](https://www.w3.org/TR/owl-features/)\n",
    "- [RDF Schema](https://www.w3.org/TR/rdf-schema/)\n",
    "- [SKOS](https://www.w3.org/TR/skos-reference/)\n",
    "- [FOAF](http://xmlns.com/foaf/0.1/)\n",
    "- [VoID](https://www.w3.org/TR/void/)\n",
    "- [Virtrdf](https://vos.openlinksw.com/owiki/wiki/VOS/VirtRDFViewNorthwindOntology)\n",
    "- Linkedimdb/id\n",
    "- Linkedimdb/vocab\n",
    "\n",
    "It is also interesting to understand which are the **most used properties**:"
   ]
  },
  {
   "cell_type": "code",
   "execution_count": null,
   "metadata": {},
   "outputs": [],
   "source": [
    "# Most used predicates list\n",
    "query_predicate_repetition = '''\n",
    "    SELECT ?p (COUNT(?p) AS ?predicate)\n",
    "    WHERE { \n",
    "    ?s ?p ?o .\n",
    "    }\n",
    "    GROUP BY ?p\n",
    "    ORDER BY DESC(?predicate)\n",
    "'''\n",
    "\n",
    "df = sparql_dataframe.get(endpoint, query_predicate_repetition)\n",
    "print(f'The number of times each predicate is used:\\n {df}')\n"
   ]
  },
  {
   "attachments": {},
   "cell_type": "markdown",
   "metadata": {},
   "source": [
    "An interesting insight we get from this first exploration is the presence of an ontology specific to IMDB: **Linkedimdb.**\n",
    "\n",
    "As linkedmdb/id obviously contains only linkage knowledge, we are more interested in linkedmbd/vocab and, to further analyse it, we can select only those properties belonging to it:"
   ]
  },
  {
   "cell_type": "code",
   "execution_count": null,
   "metadata": {},
   "outputs": [],
   "source": [
    "# List linkedimdb/vocab predicates \n",
    "query_predicates = \"\"\"\n",
    "    SELECT DISTINCT ?p\n",
    "    WHERE { \n",
    "    ?s ?p ?o .\n",
    "    FILTER regex(?p, \"https://triplydb.com/Triply/linkedmdb/vocab/\", \"i\")\n",
    "    } ORDER BY ?p\n",
    "\"\"\"\n",
    "\n",
    "df = sparql_dataframe.get(endpoint, query_predicates)\n",
    "print(f'The list of linkedimdb/vocab predicates:\\n {df}')"
   ]
  },
  {
   "attachments": {},
   "cell_type": "markdown",
   "metadata": {},
   "source": [
    "[here missing part on classes]"
   ]
  },
  {
   "attachments": {},
   "cell_type": "markdown",
   "metadata": {},
   "source": [
    "#### A-Box (Assertional Box)\n"
   ]
  },
  {
   "attachments": {},
   "cell_type": "markdown",
   "metadata": {},
   "source": [
    "### SPARQL Queries\n",
    "\n",
    "## SPARQL Queries\n",
    "\n",
    "We can now properly state our queries to the knowledge graph, and we do so based on the results coming from the **script analysis** and **review analysis**:\n",
    "- Result 1:\n",
    "- Result 2:\n",
    "- Result 3:\n",
    "- Result 4:\n",
    "- Result 5:\n",
    "\n",
    "Queries:\n",
    "1. How many of these movies have been directed by a male director?\n",
    "    1. For this query we will need to probably do a **federated query** combining linkedmdb, which links the movie title to its director(s) and wikidata, which can give us information on the director(s)' gender\n",
    "2. How many of these movies have a majority of male actors in the cast?\n",
    "    1. Again, probably will need a **federated query**\n",
    "3. What are the lengths of these movies compared to the other movies?\n",
    "4. Some other query (hard to define for now)\n",
    "5. Some other query (hard to define for now)"
   ]
  },
  {
   "attachments": {},
   "cell_type": "markdown",
   "metadata": {},
   "source": [
    "## References \n",
    "- Abox, Wikipedia. https://en.wikipedia.org/wiki/Abox\n",
    "- \"How to explore an unknown dataset - quickstart\" by M. Daquino\n",
    "- DuCharme Bob, \"Exploring a SPARQL endpoint\", August 24, 2014. https://www.bobdc.com/blog/exploring-a-sparql-endpoint/.\n",
    "- DuCharme Bob, \"Queries to explore a dataset\", April 30, 2022. https://www.bobdc.com/blog/exploringadataset/."
   ]
  }
 ],
 "metadata": {
  "kernelspec": {
   "display_name": "Python 3",
   "language": "python",
   "name": "python3"
  },
  "language_info": {
   "name": "python",
   "version": "3.10.0"
  },
  "orig_nbformat": 4
 },
 "nbformat": 4,
 "nbformat_minor": 2
}
