{
 "cells": [
  {
   "attachments": {},
   "cell_type": "markdown",
   "metadata": {},
   "source": [
    "# ProjectName - Visualization documentation\n",
    "\n",
    "This Jupyter Notebook analyses the data visualization phase for [\"NameProject\"](https://github.com/ahsanv101/ProjectGaze), a data visualization project regarding the perception of the \"male gaze\" in USA's highest grossing movies between 1940s and 2010s.\n",
    "\n",
    "### Disclaimer ?? idk if it's needed\n",
    "This Jupyter Notebook is of informational nature only, it is not thought to be used for the data visualization, but only for the analysis and explanation of such process.\n",
    "<br>The Python files used for the clean up can be found in `scripts > [namefile].py`."
   ]
  }
 ],
 "metadata": {
  "kernelspec": {
   "display_name": "Python 3",
   "language": "python",
   "name": "python3"
  },
  "language_info": {
   "name": "python",
   "version": "3.10.0"
  },
  "orig_nbformat": 4
 },
 "nbformat": 4,
 "nbformat_minor": 2
}
