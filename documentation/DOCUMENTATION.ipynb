{
 "cells": [
  {
   "attachments": {},
   "cell_type": "markdown",
   "metadata": {},
   "source": [
    "# ProjectName - Project documentation\n",
    "<a href=\"\">ProjectName</a> is a project developed by Ahsan Syed, Chloe Papadopoulou, Francesca Budel, and Orsola Maria Borrini for the final exam of the course <a href=\"https://www.unibo.it/it/didattica/insegnamenti/insegnamento/2022/467047\">\"Information Visualization\"</a> held by professor Marilena Daquino within the <a href=\"https://corsi.unibo.it/2cycle/DigitalHumanitiesKnowledge\">Digital Humanities and Digital Knowledge Master Degree</a> (University of Bologna), during the A.Y. 2022/2023.\n",
    "\n",
    "The project analyses the concept of \"male gaze\" in cinema as described by feminist film theorist Laura Mulvey in her essay \"Visual Pleasure and Narrative Cinema\"."
   ]
  },
  {
   "attachments": {},
   "cell_type": "markdown",
   "metadata": {},
   "source": [
    "## Background\n",
    "\n",
    "write here about domain, problem\n",
    "\n",
    "## Goals\n",
    "\n",
    "## Research questions"
   ]
  },
  {
   "attachments": {},
   "cell_type": "markdown",
   "metadata": {},
   "source": [
    "## Data preparation and data analysis\n",
    "Overall, the data preparation and analysis was conducted following Mulvey's description of \"the looks associated with cinema\":\n",
    "- **The camera**, recording the pro-filmic event\n",
    "- **The characters**, looking at each other within the screen illusion\n",
    "- **The audience**, watching the final product\n",
    "\n",
    "\n",
    "Finally, a **\"Gaze Score\"** ranging from 0 to 100 was assigned to each film within our scope to rank them in a \"male gaze\" hierarchy. \n",
    "\n",
    "### The audience: webscraping, sentiment and sexism analyses\n",
    "\n",
    "### The characters: films and scripts analyses\n",
    "\n",
    "### The camera: SPARQL metadata retrieval\n",
    "After gathering some results from the \"audience\" and \"characters\" factors detailed above, we further researched some important aspects emerged during these first analyses.\n",
    "\n",
    "Specifically, we found out that:\n",
    "1. Lorem Ipsum (one for the audience part)\n",
    "2. Bechdel test --> while 38 movies passed the Bechdel test, 34 did not\n",
    "3. Lorem Ipsum\n",
    "4. Lorem Ipsum\n",
    "5. Lorem Ipsum\n",
    "6. Lorem Ipsum\n",
    "7. Lorem Ipsum\n",
    "\n",
    "To better understand these results, we implemented the following queries on the SPARQL Endpoint of the [**Linked Internet Movie Database (IMDb)**](https://triplydb.com/Triply/linkedmdb):\n",
    "> 1. ** *Query for the audience part* **\n",
    "2. How many of the movies that **did not** pass the Bechdel test have male directors?\n",
    "3. How many of the movies with a majority of male dialogues have male writers?\n",
    "4. Compare movies with different Male gaze scores, what are their characteristics in terms of metadata?\n",
    "\n",
    "### The \"Gaze Score\"\n",
    "The final \"gaze score\" was measured taking into account all the factors related to the audience and characters aspects detailed above.\n",
    "\n",
    "\n",
    "The division of the score is as follows:\n",
    "1. **Bechdel Test** (max. 40%), score assigned based on the following criteria\n",
    "    1. If a movie passes **no rule**: 40%\n",
    "    2. If a movie passes **only the first rule**: 26.66%\n",
    "    3. If a movie passes **only the first and second rules**: 13.33%\n",
    "    4. If a movie passes **all rules**: 0%\n",
    "2. **Character description** (max. 35%), score assigned based on the following criteria\n",
    "    1. If a female character is described in a **highly sexist** manner: 35%\n",
    "    2. If a female character is described in a **dubious but problematic** manner: 17.5%\n",
    "    3. If a female character is not described in any of the above manners: 0%\n",
    "3. **Character dialogues** (max. 25%), score assigned based on the following criteria:\n",
    "    1. If a male character has less than or equal to 50% of the overrall dialogue in the script: 0%\n",
    "    2. If a male character has more than or equal to 70% of the overall dialogue in the script: 25%\n",
    "    3. If a male character has dialogue between 51% to 69% of the overall dialogue in the script: the percentage will be assigned on the basis of the percentile between values 0.1%-24.9%\n",
    "\n",
    "### Disclaimer\n",
    "A more detailed documentation on the data preparation and analysis phase can be found in `documentation > DATA.ipynb`."
   ]
  },
  {
   "attachments": {},
   "cell_type": "markdown",
   "metadata": {},
   "source": [
    "## Data visualizations selected and reasons\n",
    "The prepared and processed data was visualized to gather some insight on the conclusions drawn. Different visualizations were employed for each of the three afore mentioned factors (audience, characters, camera).\n",
    "\n",
    "### The audience visualizations\n",
    "\n",
    "### The characters visualizations\n",
    "\n",
    "### The camera visualizations\n",
    "\n",
    "### Disclaimer\n",
    "A more detailed documentation on the data visualization phase can be found in `documentation > VIZ.ipynb`.\n"
   ]
  },
  {
   "attachments": {},
   "cell_type": "markdown",
   "metadata": {},
   "source": [
    "\n",
    "## Data communication strategies\n",
    "\n",
    "## Summary of results"
   ]
  }
 ],
 "metadata": {
  "kernelspec": {
   "display_name": "Python 3",
   "language": "python",
   "name": "python3"
  },
  "language_info": {
   "name": "python",
   "version": "3.10.0"
  },
  "orig_nbformat": 4
 },
 "nbformat": 4,
 "nbformat_minor": 2
}
