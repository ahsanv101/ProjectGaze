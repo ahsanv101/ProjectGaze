{
 "cells": [
  {
   "attachments": {},
   "cell_type": "markdown",
   "metadata": {},
   "source": [
    "# ProjectName - Project documentation\n",
    "<a href=\"\">ProjectName</a> is a project developed by Ahsan Syed, Chloe Papadopoulou, Francesca Budel, and Orsola Maria Borrini for the final exam of the course <a href=\"https://www.unibo.it/it/didattica/insegnamenti/insegnamento/2022/467047\">\"Information Visualization\"</a> held by professor Marilena Daquino within the <a href=\"https://corsi.unibo.it/2cycle/DigitalHumanitiesKnowledge\">Digital Humanities and Digital Knowledge Master Degree</a> (University of Bologna), during the A.Y. 2022/2023."
   ]
  },
  {
   "attachments": {},
   "cell_type": "markdown",
   "metadata": {},
   "source": [
    "## Background\n",
    "\n",
    "write here about domain, problem\n",
    "\n",
    "## Goals\n",
    "\n",
    "## Research questions\n",
    "\n",
    "## Data preparation and data analysis\n",
    "A more detailed documentation on the data visualization phase can be found in `documentation > DATA.ipynb`.\n",
    "\n",
    "## Data visualizations selected and reasons\n",
    "A more detailed documentation on the data visualization phase can be found in `documentation > VIZ.ipynb`.\n",
    "\n",
    "## Data communication strategies\n",
    "\n",
    "## Summary of results"
   ]
  }
 ],
 "metadata": {
  "kernelspec": {
   "display_name": "Python 3",
   "language": "python",
   "name": "python3"
  },
  "language_info": {
   "name": "python",
   "version": "3.10.0"
  },
  "orig_nbformat": 4
 },
 "nbformat": 4,
 "nbformat_minor": 2
}
