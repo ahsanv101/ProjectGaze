{
 "cells": [
  {
   "cell_type": "code",
   "execution_count": null,
   "metadata": {},
   "outputs": [],
   "source": [
    "import pandas as pd\n",
    "import sparql_dataframe\n",
    "\n",
    "wikidata_endpoint = \"https://query.wikidata.org/bigdata/namespace/wdq/sparql\"\n"
   ]
  },
  {
   "attachments": {},
   "cell_type": "markdown",
   "metadata": {},
   "source": [
    "<span style=\"color:red\">#### The \"Audience\" query: *what audience is the most sexist?* ---- *Is there any decade in which the reviews are the most sexist?*</span>\n",
    "\n",
    "<span style=\"color:red\">I think we could skip these queries for the SPARQL endpoint, as they could be implemented as \"audience\" visualizations directly:</span>\n",
    "<span style=\"color:red\">1. the Genre value is already present in the finalmovies.csv file and it is not a \"missing\" value which we need to look for in the SPARQL endpoint</span>\n",
    "<span style=\"color:red\">((2. we'd need to associate reviews and movies through different CSV files and i think this is a bit of a too lengthy process at the moment))</span>"
   ]
  },
  {
   "attachments": {},
   "cell_type": "markdown",
   "metadata": {},
   "source": [
    "#### The \"Characters\" queries\n",
    "##### Bechdel test query: *how many of the [selected and tested for Bechdel] movies have **male** directors?*\n",
    "To answer this query (and the following one, regarding character dialogues) we gather data from the `dialogue_bechdel.csv` file.\n",
    "\n",
    "We first create an **empty list `film_list`**, containing tuples representing the IMDB id of the movie (`imdbid` column) and its result in the Bechdel test (column `bechdel_rating`).\n",
    "If the `bechdel_rating` is...:\n",
    "- 0 &rarr; FAILED the first criteria\n",
    "- 1 &rarr; FAILED the second criteria\n",
    "- 2 &rarr; FAILED the third criteria\n",
    "- 3 &rarr; PASSED the test (passed all three criteria) \n",
    "\n",
    "Then, we **read the CSV file as a dataframe and clean it**, dropping all the movies which have not been tested for the Bechdel test: these movies will have a `NaN` value under the `bechdel_rating` column.\n",
    "\n",
    "Then, we populate the `film_list_bechdel` and measure its length: this is the total number of movies which have been tested for the Bechdel test (72)."
   ]
  },
  {
   "cell_type": "code",
   "execution_count": null,
   "metadata": {},
   "outputs": [],
   "source": [
    "film_list_bechdel = list()\n",
    "\n",
    "df = pd.read_csv('../data/dialogue/dialogue_bechdel.csv')\n",
    "\n",
    "bechdel_df = df.dropna(axis=0,subset=[\"bechdel_rating\"])\n",
    "\n",
    "for idx, row in bechdel_df.iterrows():\n",
    "    tuple = (row[\"imdbid\"], row[\"bechdel_rating\"])\n",
    "    film_list_bechdel.append(tuple)\n",
    "\n",
    "n_films = len(film_list_bechdel)\n",
    "print(\"Total number of movies tested for Bechdel test:\\t\",n_films)"
   ]
  },
  {
   "attachments": {},
   "cell_type": "markdown",
   "metadata": {},
   "source": [
    "Before finally querying the SPARQL endpoint, we need to add the Wikidata's suffix to our starting IMDB's ids. We do so with the appropriate function `createIMDBid`."
   ]
  },
  {
   "cell_type": "code",
   "execution_count": null,
   "metadata": {},
   "outputs": [],
   "source": [
    "def createIMDBid(code):\n",
    "    if len(str(code)) == 5:\n",
    "        return \"tt00\"+str(code)\n",
    "    elif len(str(code)) == 6:\n",
    "        return \"tt0\"+str(code)\n",
    "    elif len(str(code)) == 7:\n",
    "        return \"tt\"+str(code)"
   ]
  },
  {
   "attachments": {},
   "cell_type": "markdown",
   "metadata": {},
   "source": [
    "We then create an empty dataframe, `Bechdel_df`, with three columns (`Movie`, `Director`, `Bechdel_result`), yet to be populated with the results of our query, which will take one movie at the time from our `film_list_bechdel`.\n",
    "\n",
    "Finally, we query the SPARQL endpoint, selecting only the movies from our list which have a **male director** (specified by the Wikidata class `wd:Q6581097`). We populate the `Bechdel_df` dataframe with only these movies, leaving out the rest.\n",
    "\n",
    "Now, if we count the number of rows of `Bechdel_df`, we will have the **total number of male directors of the movies tested for the Bechdel test**.\n",
    "Please notice how this number is actually higher than the total number of movies tested for the Bechdel test (`n_films`): this is because some movies will have more than one director.\n",
    "\n",
    "The result of this query means that **no matter the result of the Bechdel test, all the movies which have been tested for it have male directors**."
   ]
  },
  {
   "cell_type": "code",
   "execution_count": null,
   "metadata": {},
   "outputs": [],
   "source": [
    "# SPARQL QUERY \n",
    "Bechdel_df = pd.DataFrame(columns=[\"Movie\", \"Director\", \"Bechdel_result\"])\n",
    "\n",
    "for tpl in film_list_bechdel:\n",
    "    imdb_id = createIMDBid(tpl[0])\n",
    "\n",
    "    query_gender_director = '''\n",
    "        SELECT ?Movie ?Director\n",
    "        WHERE {{\n",
    "            ?movie wdt:P345 '{imdbid}' ;\n",
    "                    wdt:P57 ?director ;\n",
    "                    rdfs:label ?Movie .\n",
    "            ?director rdfs:label ?Director ;\n",
    "                        wdt:P21 wd:Q6581097 .\n",
    "            filter ((lang(?Director) = \"en\") && (lang(?Movie) = \"en\"))\n",
    "        }}\n",
    "    '''\n",
    "\n",
    "    result_query = sparql_dataframe.get(wikidata_endpoint,query_gender_director.format(imdbid=imdb_id))\n",
    "\n",
    "    Bechdel_df = pd.concat([Bechdel_df,result_query])\n",
    "\n",
    "    if film_list_bechdel[1] == 0.0:\n",
    "        Bechdel_df[\"Bechdel_result\"] = \"FAILED criteria 1\"\n",
    "    elif film_list_bechdel[1] == 1.0:\n",
    "        Bechdel_df[\"Bechdel_result\"] = \"FAILED criteria 2\"\n",
    "    elif film_list_bechdel[1] == 2.0:\n",
    "        Bechdel_df[\"Bechdel_result\"] = \"FAILED criteria 3\"\n",
    "    else:\n",
    "        Bechdel_df[\"Bechdel_result\"] = \"PASSED\"\n",
    "\n",
    "total_Mdirectors = (len(Bechdel_df.index))\n",
    "print(\"Total number of male directors of the movies tested for the Bechdel test:\\t\",n_films)"
   ]
  },
  {
   "attachments": {},
   "cell_type": "markdown",
   "metadata": {},
   "source": [
    "##### Characters dialogue query: *how many of the [selected] films have **male** directors?*"
   ]
  },
  {
   "attachments": {},
   "cell_type": "markdown",
   "metadata": {},
   "source": [
    "#### Gaze score queries\n",
    "##### GS query 1: *To what genre belong the top 10 films in the gaze score ranking?*"
   ]
  },
  {
   "attachments": {},
   "cell_type": "markdown",
   "metadata": {},
   "source": [
    "##### GS query 2: *Is there any correlation between rank in the gaze score ranking, box-office and production costs?*"
   ]
  },
  {
   "attachments": {},
   "cell_type": "markdown",
   "metadata": {},
   "source": [
    "##### GS query 3: *Is there any decade in which the films rank higher in the gaze score ranking?*"
   ]
  }
 ],
 "metadata": {
  "kernelspec": {
   "display_name": "Python 3",
   "language": "python",
   "name": "python3"
  },
  "language_info": {
   "codemirror_mode": {
    "name": "ipython",
    "version": 3
   },
   "file_extension": ".py",
   "mimetype": "text/x-python",
   "name": "python",
   "nbconvert_exporter": "python",
   "pygments_lexer": "ipython3",
   "version": "3.10.0"
  },
  "orig_nbformat": 4
 },
 "nbformat": 4,
 "nbformat_minor": 2
}
