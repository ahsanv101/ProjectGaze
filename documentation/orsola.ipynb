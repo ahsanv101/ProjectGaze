{
 "cells": [
  {
   "cell_type": "code",
   "execution_count": 49,
   "metadata": {},
   "outputs": [],
   "source": [
    "import pandas as pd\n",
    "import sparql_dataframe\n",
    "\n",
    "wikidata_endpoint = \"https://query.wikidata.org/bigdata/namespace/wdq/sparql\"\n"
   ]
  },
  {
   "attachments": {},
   "cell_type": "markdown",
   "metadata": {},
   "source": [
    "#### The \"Characters\" queries\n",
    "##### Bechdel test query: *how many of the [selected and tested for Bechdel] movies have **male** directors?*\n",
    "To answer this query (and the following one, regarding character dialogues) we gather data from the `dialogue_bechdel.csv` file.\n",
    "\n",
    "We first **read the CSV file as a dataframe and clean it**, dropping all the movies which have not been tested for the Bechdel test: these movies will have a `NaN` value under the `bechdel_rating` column.\n",
    "\n",
    "We then create an **empty list `film_list_bechdel`**, containing tuples representing the IMDB id of the movie (`imdbid` column) and its result in the Bechdel test (column `bechdel_rating`).\n",
    "If the `bechdel_rating` is...:\n",
    "- 0 &rarr; FAILED the first criteria\n",
    "- 1 &rarr; FAILED the second criteria\n",
    "- 2 &rarr; FAILED the third criteria\n",
    "- 3 &rarr; PASSED the test (passed all three criteria) \n",
    "\n",
    "As our starting IMDB's ids are actually different than those present in wikipedia (which have a suffix differentiating between titles, names, companies, events, news...), before populating the `film_list_bechdel` we need to process the ids and add the suffix.\n",
    "\n",
    "We do so with the appropriate function `createIMDBid`.\n",
    "\n",
    "Then, we populate the `film_list_bechdel` and measure its length: this is the total number of movies which have been tested for the Bechdel test (72)."
   ]
  },
  {
   "cell_type": "code",
   "execution_count": 50,
   "metadata": {},
   "outputs": [
    {
     "name": "stdout",
     "output_type": "stream",
     "text": [
      "Total number of movies tested for Bechdel test:\t 72\n"
     ]
    }
   ],
   "source": [
    "df = pd.read_csv('../data/dialogue/dialogue_bechdel.csv')\n",
    "\n",
    "def createIMDBid(code):\n",
    "    if len(str(code)) == 5:\n",
    "        return \"tt00\"+str(code)\n",
    "    elif len(str(code)) == 6:\n",
    "        return \"tt0\"+str(code)\n",
    "    elif len(str(code)) == 7:\n",
    "        return \"tt\"+str(code)\n",
    "\n",
    "bechdel_df = df.dropna(axis=0, subset=[\"bechdel_rating\"])\n",
    "\n",
    "film_list_bechdel = list()\n",
    "\n",
    "for idx, row in bechdel_df.iterrows():\n",
    "    imdb_id = createIMDBid(row[\"imdbid\"])\n",
    "    tuple = (imdb_id, row[\"bechdel_rating\"])\n",
    "    film_list_bechdel.append(tuple)\n",
    "\n",
    "n_films_B = len(film_list_bechdel)    # 72\n",
    "print(\"Total number of movies tested for Bechdel test:\\t\",n_films_B)"
   ]
  },
  {
   "attachments": {},
   "cell_type": "markdown",
   "metadata": {},
   "source": [
    "\n",
    "We create a `ids_tpl_bechdel` tuple (to be used in the SPARQL query) containing only the formatted IMDB's ids taken from the `film_list_bechdel`.\n",
    "\n",
    "Finally, we query the SPARQL endpoint, selecting only the movies from our list which have a **male director** (specified by the Wikidata class `wd:Q6581097`).\n",
    "\n",
    "We use the `FILTER` and `IN` clauses to run the query on all the IMDB's ids contained in our list without having to open the query connection multiple times (as experienced, that will overwork Wikidata's query service and the IP of the computer used to run the query will be momentarily banned)."
   ]
  },
  {
   "cell_type": "code",
   "execution_count": 51,
   "metadata": {},
   "outputs": [],
   "source": [
    "ids_tpl_bechdel = ()\n",
    "\n",
    "for tpl in film_list_bechdel:\n",
    "    ids_tpl_bechdel = ids_tpl_bechdel + (tpl[0],)\n",
    "\n",
    "# SPARQL\n",
    "query_gender_director = '''\n",
    "        SELECT ?imdb ?Movie ?Director\n",
    "        WHERE {{\n",
    "            ?movie wdt:P345 ?imdb ;\n",
    "                    wdt:P57 ?director ;\n",
    "                    rdfs:label ?Movie .\n",
    "            ?director rdfs:label ?Director ;\n",
    "                        wdt:P21 wd:Q6581097 .\n",
    "            FILTER ((lang(?Director) = \"en\") && (lang(?Movie) = \"en\")) .\n",
    "            FILTER (?imdb IN {list}) .\n",
    "        }}\n",
    "    '''\n",
    "\n",
    "result_bechdel_query = sparql_dataframe.get(\n",
    "    wikidata_endpoint, query_gender_director.format(list=ids_tpl_bechdel), True)"
   ]
  },
  {
   "attachments": {},
   "cell_type": "markdown",
   "metadata": {},
   "source": [
    "Now, as we want to add the outcome of the Bechdel test of the result of the query, we create another dataframe `add_bech_df` from the list of tuples `film_list_bechdel` (in which the first element of each tuple is the formatted IMDB's id, and the second element is the outcome of the Bechdel test).\n",
    "\n",
    "We then merge the two dataframes `result_bechdel_query` and `add_bech_df` together, using the `imdb` column as merging point.\n",
    "\n",
    "Now, if we count the number of rows of the updated `result_bechdel_query`, we will have the **total number of male directors of the movies tested for the Bechdel test**.\n",
    "Please notice how this number is actually higher than the total number of movies tested for the Bechdel test (`n_films_B`): this is because some movies will have more than one director.\n",
    "\n",
    "The result of this query means that **no matter the result of the Bechdel test, all the movies which have been tested for it have male directors**."
   ]
  },
  {
   "cell_type": "code",
   "execution_count": 52,
   "metadata": {},
   "outputs": [
    {
     "name": "stdout",
     "output_type": "stream",
     "text": [
      "Total number of movies tested for Bechdel test WITH male director(s):\t 79\n"
     ]
    }
   ],
   "source": [
    "add_bech_df = pd.DataFrame(film_list_bechdel, columns=[\n",
    "                           \"imdb\", \"Bechdel_result\"])\n",
    "\n",
    "result_bechdel_query = result_bechdel_query.merge(\n",
    "    add_bech_df, left_on=\"imdb\", right_on=\"imdb\")\n",
    "\n",
    "\n",
    "total_Mdirectors = (len(result_bechdel_query.index))  # 79\n",
    "print(\"Total number of movies tested for Bechdel test WITH male director(s):\\t\",total_Mdirectors)\n",
    "\n"
   ]
  },
  {
   "attachments": {},
   "cell_type": "markdown",
   "metadata": {},
   "source": [
    "##### Characters dialogue query: *how many of the [selected] films have **male** directors?*\n",
    "\n",
    "Even for this query we are using the data from the `dialogue_bechdel.csv` file.\n",
    "\n",
    "The reasoning behind this query is more or less the same as the previous one:\n",
    "1. **Read the CSV file as a dataframe and clean it** from all the movies that have no dialogue analysis (using the `.dropna` instruction, as they will have a `NaN` value under the `male_percen` column)\n",
    "2. Create a **`film_list_dlg` of tuples containing the IMDB id of the movie** (`imdbid` column) and the **information on the dialogues** (`male_percen` and `nonmale_percentage` columns); then, measure its length: this is the total number of movies which have dialogue analysis\n",
    "3. Use the previously defined `createIMDBid` function to add the Wikidata's suffix to our starting IMDB's ids\n"
   ]
  },
  {
   "cell_type": "code",
   "execution_count": 53,
   "metadata": {},
   "outputs": [
    {
     "name": "stdout",
     "output_type": "stream",
     "text": [
      "Total number of movies with a dialogue analysis:\t 66\n"
     ]
    }
   ],
   "source": [
    "\n",
    "film_list_dlg = list()\n",
    "\n",
    "dlg_df = df.dropna(axis=0, subset=[\"male_percen\"])\n",
    "\n",
    "for idx, row in dlg_df.iterrows():\n",
    "    imdb_id = createIMDBid(row[\"imdbid\"])\n",
    "    tuple = (imdb_id, row[\"male_percen\"], row[\"nonmale_percentage\"])\n",
    "    film_list_dlg.append(tuple)\n",
    "\n",
    "n_films = len(film_list_dlg)    # 66\n",
    "print(\"Total number of movies with a dialogue analysis:\\t\",n_films)"
   ]
  },
  {
   "attachments": {},
   "cell_type": "markdown",
   "metadata": {},
   "source": [
    "4. Create the `ids_tpl_dlg` tuple with only the formatted IMDB's ids (taken from the `film_list_dlg`)\n",
    "5. Query the SPARQL endpoint selecting **the writers for each movie (regardless of their gender) and their gender** \"value\"\n",
    "    - The use of the `OPTIONAL` clause was necessary as it seems not all writers have the gender information available"
   ]
  },
  {
   "cell_type": "code",
   "execution_count": 54,
   "metadata": {},
   "outputs": [],
   "source": [
    "ids_tpl_dlg = ()\n",
    "\n",
    "for tpl in film_list_dlg:\n",
    "    ids_tpl_dlg = ids_tpl_dlg + (tpl[0],)\n",
    "\n",
    "# SPARQL\n",
    "query_gender_director = '''\n",
    "    SELECT ?imdb ?Movie ?Writer ?Gender\n",
    "    WHERE {{\n",
    "        ?movie wdt:P345 ?imdb ;\n",
    "                wdt:P58 ?writer ;\n",
    "                rdfs:label ?Movie .\n",
    "        ?writer rdfs:label ?Writer .\n",
    "        OPTIONAL {{\n",
    "            ?writer wdt:P21 ?gender .\n",
    "            ?gender rdfs:label ?Gender .\n",
    "            FILTER ( (lang(?Gender) = \"en\") )\n",
    "        }}\n",
    "        FILTER ( (lang(?Writer) = \"en\") && (lang(?Movie) = \"en\"))\n",
    "        FILTER ( ?imdb IN {list} )\n",
    "}}\n",
    "'''\n",
    "\n",
    "result_dlg_query = sparql_dataframe.get(\n",
    "    wikidata_endpoint, query_gender_director.format(list=ids_tpl_dlg), True)\n",
    "result_dlg_query"
   ]
  },
  {
   "attachments": {},
   "cell_type": "markdown",
   "metadata": {},
   "source": [
    "6. Add the outcome of the dialogue analysis through a new dataframe `add_dlg_df`, created from the list of tuples `film_list_dlg`\n",
    "7. Merge the two dataframes `result_dlg_query` and `add_dlg_df`\n",
    "8. Save the dataframe in a CSV file"
   ]
  },
  {
   "cell_type": "code",
   "execution_count": 55,
   "metadata": {},
   "outputs": [],
   "source": [
    "add_dlg_df = pd.DataFrame(film_list_dlg, columns=[\n",
    "                           \"imdb\", \"male_percentage\", \"nonmale_percentage\"])\n",
    "\n",
    "# Merge the two dataframes together using the IMDB ids columns\n",
    "result_dlg_query = result_dlg_query.merge(\n",
    "    add_dlg_df, left_on=\"imdb\", right_on=\"imdb\")\n",
    "\n",
    "result_dlg_query\n",
    "# result_dlg_query.to_csv('data/sparql/dlg.csv')"
   ]
  },
  {
   "attachments": {},
   "cell_type": "markdown",
   "metadata": {},
   "source": [
    "Now we can quickly compare the number of male and female writers in our selection of the movies. We do so by simply iterating through the `result_dlg_query` dataframe and update the number of writers (either `n_Mwriters` or `n_Fwriters`) depending on the value under the column `Gender`.\n",
    "\n",
    "The difference is clear and pretty straightforward."
   ]
  },
  {
   "cell_type": "code",
   "execution_count": 56,
   "metadata": {},
   "outputs": [
    {
     "name": "stdout",
     "output_type": "stream",
     "text": [
      "Number of male writers\t: 143\n",
      "Number of female writers\t: 11\n"
     ]
    }
   ],
   "source": [
    "n_Mwriters = 0\n",
    "n_Fwriters = 0\n",
    "for idx, row in result_dlg_query.iterrows():\n",
    "    if row[\"Gender\"] == 'male':\n",
    "        n_Mwriters += 1\n",
    "    else:\n",
    "        n_Fwriters += 1\n",
    "\n",
    "print(\"Number of male writers\\t:\", n_Mwriters)  # 143\n",
    "print(\"Number of female writers\\t:\", n_Fwriters)    # 11\n",
    "\n",
    "# result_dlg_query.to_csv('data/sparql/dlg.csv')\n"
   ]
  },
  {
   "attachments": {},
   "cell_type": "markdown",
   "metadata": {},
   "source": [
    "#### Gaze score queries\n",
    "\n",
    "For these queries, the data used comes from the `final_scores_df.csv` CSV file.\n",
    "Again, even in this case the reasoning is always the same as before.\n",
    "\n",
    "\n",
    "##### GS query 1: *To what genre belong the top 10 films in the gaze score ranking?*\n",
    "\n",
    "1. **Read the CSV file as a dataframe and clean it** from all the movies that have no male gaze score (using the `.dropna` instruction, as they will have a `NaN` value under the `gaze_score` column); then, **sort it** depending on the male gaze value (`MG_df`) and then **select only the top 10 movies** (`topMG_df`)\n",
    "2. Create a **`film_list_mg1` of tuples containing the IMDB id of the movie** (`imdbid` column) and the **male gaze score** (`gaze_score` column); then, measure its length: this is the total number of movies which have a male gaze score\n",
    "3. Use the previously defined `createIMDBid` function to add the Wikidata's suffix to our starting IMDB's ids\n",
    "4. Create the `ids_tpl_mg1` tuple with only the formatted IMDB's ids (taken from the `film_list_mg1`)\n",
    "5. Query the SPARQL endpoint selecting **the genres for each movie** of the movies in the list"
   ]
  },
  {
   "cell_type": "code",
   "execution_count": 57,
   "metadata": {},
   "outputs": [],
   "source": [
    "df_mg = pd.read_csv('../data/final_scores/final_scores_df.csv')\n",
    "\n",
    "MG_df = df_mg.dropna(axis=0, subset=[\"gaze_score\"])\n",
    "\n",
    "MG_df.sort_values(by=\"gaze_score\", ascending=False, inplace=True, ignore_index=True)\n",
    "\n",
    "topMG_df = MG_df.head(10)\n",
    "\n",
    "\n",
    "film_list_mg1 = list()\n",
    "\n",
    "for idx, row in topMG_df.iterrows():\n",
    "    imdb_id = createIMDBid(row[\"imdbid\"])\n",
    "    tuple = (imdb_id, row[\"gaze_score\"])\n",
    "    film_list_mg1.append(tuple)\n",
    "\n",
    "print(\"Top 10 movies of the male gaze score ranking:\\t\",len(film_list_mg1))\n",
    "\n",
    "ids_tpl_mg1 = ()\n",
    "\n",
    "for tpl in film_list_mg1:\n",
    "    ids_tpl_mg1 = ids_tpl_mg1 + (tpl[0],)\n",
    "\n",
    "# SPARQL\n",
    "query_10_mg = '''\n",
    "    SELECT ?imdb ?Movie ?Genre\n",
    "    WHERE {{\n",
    "        ?movie wdt:P345 ?imdb ;\n",
    "                wdt:P136 ?genre ;\n",
    "                rdfs:label ?Movie .\n",
    "        ?genre rdfs:label ?Genre .\n",
    "        FILTER ( (lang(?Movie) = \"en\") && (lang(?Genre) = \"en\"))\n",
    "        FILTER ( ?imdb IN {list} )\n",
    "    }}\n",
    "'''\n",
    "\n",
    "result_mg1_query = sparql_dataframe.get(wikidata_endpoint, query_10_mg.format(list=ids_tpl_mg1),True)\n",
    "result_mg1_query"
   ]
  },
  {
   "attachments": {},
   "cell_type": "markdown",
   "metadata": {},
   "source": [
    "6. Add the male gaze score through a new dataframe `add_mg1_df`, created from the list of tuples `film_list_mg1`\n",
    "7. Merge the two dataframes `result_mg1_query` and `add_mg1_df`\n",
    "8. Save the dataframe in a CSV file"
   ]
  },
  {
   "cell_type": "code",
   "execution_count": 58,
   "metadata": {},
   "outputs": [],
   "source": [
    "add_mg1_df = pd.DataFrame(film_list_mg1,columns=[\"imdb\", \"gaze_score\"])\n",
    "\n",
    "result_mg1_query = result_mg1_query.merge(add_mg1_df,left_on=\"imdb\",right_on=\"imdb\")\n",
    "# result_mg1_query.to_csv('../data/sparql/mg1.csv')\n",
    "result_mg1_query"
   ]
  },
  {
   "attachments": {},
   "cell_type": "markdown",
   "metadata": {},
   "source": [
    "##### GS query 2: *Is there any correlation between rank in the gaze score ranking, box-office and production costs?*\n",
    "\n",
    "1. Use the `MG_df` already cleaned and sorted from before\n",
    "2. Create a **`film_list_mg2` of tuples containing the IMDB id of the movie** (`imdbid` column) and the **male gaze score** (`gaze_score` column); then, measure its length: this is the total number of movies which have a male gaze score\n",
    "3. Use the previously defined `createIMDBid` function to add the Wikidata's suffix to our starting IMDB's ids\n",
    "4. Create the `ids_tpl_mg2` tuple with only the formatted IMDB's ids (taken from the `film_list_mg2`)\n",
    "5. Query the SPARQL endpoint selecting **the production costs and the box office** of the movies in the list\n",
    "    - Again, the `OPTIONAL` clauses were necessary for the lack of information regarding production costs and box office for some of the movies in the list"
   ]
  },
  {
   "cell_type": "code",
   "execution_count": 63,
   "metadata": {},
   "outputs": [
    {
     "name": "stdout",
     "output_type": "stream",
     "text": [
      "Total number of movies with a male gaze score:\t 80\n"
     ]
    }
   ],
   "source": [
    "film_list_mg2 = list()\n",
    "\n",
    "for idx, row in MG_df.iterrows():\n",
    "    imdb_id = createIMDBid(row[\"imdbid\"])\n",
    "    tuple = (imdb_id, row[\"gaze_score\"])\n",
    "    film_list_mg2.append(tuple)\n",
    "\n",
    "print(\"Total number of movies with a male gaze score:\\t\",len(film_list_mg2))\n",
    "\n",
    "ids_tpl_mg2 = ()\n",
    "\n",
    "for tpl in film_list_mg2:\n",
    "    ids_tpl_mg2 = ids_tpl_mg2 + (tpl[0],)\n",
    "\n",
    "\n",
    "# SPARQL\n",
    "query_costs_mg = '''\n",
    "SELECT ?imdb ?Movie ?ProductionCosts ?BoxOffice \n",
    "WHERE {{\n",
    "  ?movie wdt:P345 ?imdb ;\n",
    "        rdfs:label ?Movie .\n",
    "  OPTIONAL {{\n",
    "    ?movie wdt:P2130 ?ProductionCosts .\n",
    "  }}\n",
    "  OPTIONAL {{\n",
    "    ?movie wdt:P2142 ?BoxOffice .\n",
    "    ?statement ps:P2142 ?BoxOffice .\n",
    "    ?statement pq:P3005 ?validity .\n",
    "    }}\n",
    "  FILTER ( (lang(?Movie) = \"en\") && ((?validity = wd:Q30) || (?validity = wd:Q49)) )\n",
    "  FILTER NOT EXISTS {{ ?statement pq:P1264 ?o }}\n",
    "  FILTER ( ?imdb in {list} )\n",
    "}}\n",
    "'''\n",
    "\n",
    "result_mg2_query = sparql_dataframe.get(wikidata_endpoint, query_costs_mg.format(list=ids_tpl_mg2),True)\n",
    "result_mg2_query"
   ]
  },
  {
   "attachments": {},
   "cell_type": "markdown",
   "metadata": {},
   "source": [
    "6. Add the male gaze score through a new dataframe `add_mg2_df`, created from the list of tuples `film_list_mg2`\n",
    "7. Merge the two dataframes `result_mg2_query` and `add_mg2_df`\n",
    "8. Save the dataframe in a CSV file"
   ]
  },
  {
   "cell_type": "code",
   "execution_count": null,
   "metadata": {},
   "outputs": [],
   "source": [
    "add_mg2_df = pd.DataFrame(film_list_mg2,columns=[\"imdb\", \"gaze_score\"])\n",
    "\n",
    "result_mg2_query = result_mg2_query.merge(add_mg2_df,left_on=\"imdb\",right_on=\"imdb\")\n",
    "result_mg2_query\n",
    "\n",
    "# result_mg2_query.to_csv('../data/sparql/mg2.csv')"
   ]
  }
 ],
 "metadata": {
  "kernelspec": {
   "display_name": "Python 3",
   "language": "python",
   "name": "python3"
  },
  "language_info": {
   "codemirror_mode": {
    "name": "ipython",
    "version": 3
   },
   "file_extension": ".py",
   "mimetype": "text/x-python",
   "name": "python",
   "nbconvert_exporter": "python",
   "pygments_lexer": "ipython3",
   "version": "3.10.0"
  },
  "orig_nbformat": 4
 },
 "nbformat": 4,
 "nbformat_minor": 2
}
