{
 "cells": [
  {
   "cell_type": "code",
   "execution_count": null,
   "id": "e1baeeb5-9791-453a-9afc-35c6d03a2f9b",
   "metadata": {},
   "outputs": [],
   "source": [
    "#bechdel web scraping"
   ]
  }
 ],
 "metadata": {
  "kernelspec": {
   "display_name": "Python 3 (ipykernel)",
   "language": "python",
   "name": "python3"
  },
  "language_info": {
   "codemirror_mode": {
    "name": "ipython",
    "version": 3
   },
   "file_extension": ".py",
   "mimetype": "text/x-python",
   "name": "python",
   "nbconvert_exporter": "python",
   "pygments_lexer": "ipython3",
   "version": "3.9.16"
  }
 },
 "nbformat": 4,
 "nbformat_minor": 5
}
